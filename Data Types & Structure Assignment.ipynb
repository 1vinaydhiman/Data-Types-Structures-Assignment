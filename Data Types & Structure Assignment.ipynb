{
 "cells": [
  {
   "cell_type": "raw",
   "id": "0cf35e2d-a8be-4c26-a645-ac3bdf3ceed6",
   "metadata": {},
   "source": [
    "THEORITICAL QUESTIONS \n",
    "1.What are data structures, and why are they important?\n",
    "- A data structure is a specialized format for organizing, processing, and storing data so that it can be accessed and modified efficiently. \n",
    " They are important because of their efficiency, code maintainbility and real world applications.\n"
   ]
  },
  {
   "cell_type": "raw",
   "id": "198e7120-be97-44ce-9ac7-56627e2ede87",
   "metadata": {},
   "source": [
    "2. Explain the difference between mutable and immutable data types with examples?\n",
    "- Mutable Data type> The type of Data Structure whose value can be changed after creation.\n",
    "  e.g.>> lists , dictionaries\n",
    "- Immutable Data Type>> The type of Data Structure whose value can not be changed after creation.\n",
    " e.g.>>Strings, Tuples"
   ]
  },
  {
   "cell_type": "raw",
   "id": "c7c74bc6-5e18-41f3-8a02-0d148a8ab279",
   "metadata": {},
   "source": [
    "3. What are the main differences between lists and tuples in Python?\n",
    "- Lists are mutable but Tuples are not.\n",
    " - Lists defined by brackets [], Tuples are defined by parenthesis().\n",
    " - Lists are used when data can change, Tuples are used when data should remain constant.\n",
    " - Lists have many built in methods (append,remove), limited built in methods "
   ]
  },
  {
   "cell_type": "raw",
   "id": "bb8250cc-320f-4f09-8368-101fe2f4c6a5",
   "metadata": {},
   "source": [
    "4. Describe how dictionaries store data.\n",
    "- Dictionaries stores data in key value pair.Each key acts as a unique identifier for its corresponding value, making retrieval fast and efficient.\n",
    "- Structure of a Dictionary\n",
    "- Syntax:\n",
    "my_dict = {'name': 'Vinay', 'age': 20}\n",
    "- Here, 'name' and 'age' are keys, while 'Vinay' and 20 are their associated values."
   ]
  },
  {
   "cell_type": "raw",
   "id": "26cc8999-ae6c-4245-af8a-f0e735a3cc73",
   "metadata": {},
   "source": [
    "5. Why might you use a set instead of a list in Python?\n",
    "- However, a set offers unique advantages in specific scenarios due to its built-in properties.\n",
    "> Key Reasons to Use a Set Over a List\n",
    "  -It automatically removes duplicates\n",
    "  -faster for membership tests\n",
    "  -ideal for uniqueness and quick lookup."
   ]
  },
  {
   "cell_type": "raw",
   "id": "a7760541-331d-4300-b671-e882116fc5b4",
   "metadata": {},
   "source": [
    "6.What is a string in Python, and how is it different from a list?\n",
    "- A string is a sequence of characters used to represent text. A list, on the other hand, is a flexible collection used to store multiple items of any data type, including strings."
   ]
  },
  {
   "cell_type": "raw",
   "id": "b4d9b71e-4967-4ec2-b435-3f93c47f0668",
   "metadata": {},
   "source": [
    "7.How do tuples ensure data integrity in Python?\n",
    "- In python, a tuple is an immutable, ordered collection of elements. Once a tuple is created, its contents cannot be modified, which plays a key role in preserving data integrity."
   ]
  },
  {
   "cell_type": "raw",
   "id": "0dad945e-7668-419e-a5a9-3901162f5ded",
   "metadata": {},
   "source": [
    "8.What is a hash table, and how does it relate to dictionaries in Python?\n",
    "- In Python, the built-in dict type is a direct implementation of a hash table. It allows fast storage and retrieval of data using unique keys, thanks to the hashing mechanism."
   ]
  },
  {
   "cell_type": "raw",
   "id": "9440e6ca-2185-45e3-98f1-5ba216dfa4ab",
   "metadata": {},
   "source": [
    "9.Can lists contain different data types in Python?\n",
    "- Yes, lists are versatile collections that can hold multiple data types within the same list."
   ]
  },
  {
   "cell_type": "raw",
   "id": "eab68262-d45a-474a-ae56-cc675cfd3b8e",
   "metadata": {},
   "source": [
    "10.Explain why strings are immutable in Python?\n",
    "- In Python, strings are immutable, meaning their contents cannot be changed after creation. This design choice is intentional and serves multiple purposes related to performance, security, and programming efficiency.\n",
    "\n",
    "- Reasons Why Strings Are Immutable\n",
    " Immutable strings can be stored in a shared memory pool, saving resources. \n",
    " Strings can be safely used as dictionary keys because their value never changes.  \n",
    " Makes multi-threaded programs safer and easier to manage. \n"
   ]
  },
  {
   "cell_type": "raw",
   "id": "c11f5ff7-8907-400b-97f8-f66a5b0f55af",
   "metadata": {},
   "source": [
    "11. What advantages do dictionaries offer over lists for certain tasks?\n",
    "- Dictionaries in Python offer faster access to data by using unique keys instead of index positions like lists. They improve readability and organization by storing labeled data. Unlike lists, dictionaries are ideal for tasks that need key-value pairing, such as user profiles or campaign metrics."
   ]
  },
  {
   "cell_type": "raw",
   "id": "7fc1d61c-6119-4c62-81ff-bc7f1023cb81",
   "metadata": {},
   "source": [
    "12. Describe a scenario where using a tuple would be preferable over a list.\n",
    "-A tuple is preferable when you want to store data that should not be changed, such as coordinates or configuration settings. For example, storing a user's birthdate `(1998, 5, 21)` in a tuple ensures it stays fixed. Since tuples are immutable, they help protect critical data from accidental modification."
   ]
  },
  {
   "cell_type": "raw",
   "id": "9d0d2471-5e99-4cc4-bcd5-5a7c79f22b75",
   "metadata": {},
   "source": [
    "13. How do sets handle duplicate values in Python?\n",
    "-In Python, sets do not allow duplicate values. When multiple identical items are added to a set, only one copy is retained. This automatic removal ensures data uniqueness and is useful for tasks like filtering repeated entries. For example, converting a list with duplicates into a set gives only unique elements."
   ]
  },
  {
   "cell_type": "raw",
   "id": "7d9b6644-acec-47e1-9686-ec82607d9d22",
   "metadata": {},
   "source": [
    "14. How does the “in” keyword work differently for lists and dictionaries?\n",
    "-In Python, the `in` keyword checks for the presence of elements. For **lists**, it checks whether a specific value exists among the items. For **dictionaries**, it checks whether a given key exists, not the value. This makes `in` useful for key-based lookups in dictionaries and value-based searches in lists."
   ]
  },
  {
   "cell_type": "raw",
   "id": "ebd82075-2ef9-4363-92f9-c7fc935b0174",
   "metadata": {},
   "source": [
    "15. Can you modify the elements of a tuple? Explain why or why not?\n",
    "-No, we cannot modify the elements of a tuple in Python because tuples are **immutable**. Once a tuple is created, its values remain fixed and cannot be changed, added, or removed. This immutability ensures data integrity and makes tuples useful for storing constant or protected information."
   ]
  },
  {
   "cell_type": "raw",
   "id": "1af9535a-e3d0-4d25-85d7-6c6bbca7b963",
   "metadata": {},
   "source": [
    "16.What is a nested dictionary, and give an example of its use case?\n",
    "-A nested dictionary is a dictionary inside another dictionary, used to store complex or hierarchical data. It allows grouping related information under a single key. For example, storing student records:  \n",
    "`students = {\"Vinay\": {\"age\": 20, \"course\": \"BBA\"}, \"Aman\": {\"age\": 22, \"course\": \"MBA\"}}`  \n",
    "This makes it easy to access and manage detailed data for each individual."
   ]
  },
  {
   "cell_type": "raw",
   "id": "01267475-80c3-482b-91b1-4917c6ecebbb",
   "metadata": {},
   "source": [
    "17. Describe the time complexity of accessing elements in a dictionary .\n",
    "- Accessing elements in a dictionary has an average-case time complexity of **O(1)**, which means it takes constant time regardless of the dictionary size. This is because dictionaries use **hashing**, allowing direct access to values using keys. However, in rare cases of hash collisions, the worst-case complexity can become **O(n)**."
   ]
  },
  {
   "cell_type": "raw",
   "id": "5f30c0cb-c61f-43d0-b072-370d474f78e4",
   "metadata": {},
   "source": [
    "18.In what situations are lists preferred over dictionaries?\n",
    "- Lists are preferred when the data is ordered and indexed by position rather than a unique key. They are ideal for storing sequences, like student roll numbers or daily temperatures. Lists allow efficient iteration and support operations like sorting and slicing. Use them when simple, linear data storage is sufficient."
   ]
  },
  {
   "cell_type": "raw",
   "id": "8711fa7c-7f37-4118-b9b9-808c1f9a71b4",
   "metadata": {},
   "source": [
    "19.Why are dictionaries considered unordered, and how does that affect data retrieval?\n",
    "- Dictionaries are considered unordered because they store data using key-value pairs without preserving the original insertion order (prior to Python 3.7). This means elements can’t be accessed by position like in lists. Instead, retrieval is done using specific keys, offering fast access but no guaranteed sequence. This affects tasks needing ordered data."
   ]
  },
  {
   "cell_type": "raw",
   "id": "7055576a-6672-460a-b269-8869bdf5b376",
   "metadata": {},
   "source": [
    "20.Explain the difference between a list and a dictionary in terms of data retrieval.\n",
    "- The key difference in data retrieval lies in how lists and dictionaries access elements. In a **list**, items are retrieved using their **index positions**, which makes them suitable for ordered sequences. In contrast, a **dictionary** retrieves values using **unique keys**, allowing faster access via hashing. While lists support positional access and ordered data, dictionaries are better for storing related information as key-value pairs."
   ]
  },
  {
   "cell_type": "code",
   "execution_count": 2,
   "id": "19ccc080-9d8c-46ad-a848-8264abce264f",
   "metadata": {},
   "outputs": [
    {
     "name": "stdout",
     "output_type": "stream",
     "text": [
      "Vinay\n"
     ]
    }
   ],
   "source": [
    "## PRACTICAL QUESTIONS\n",
    "# 1. Create a string with your name and print it\n",
    "name = \"Vinay\"\n",
    "print(name)"
   ]
  },
  {
   "cell_type": "code",
   "execution_count": 3,
   "id": "b255fe69-bb1a-4dfd-8576-ed379449f2bc",
   "metadata": {},
   "outputs": [
    {
     "name": "stdout",
     "output_type": "stream",
     "text": [
      "11\n"
     ]
    }
   ],
   "source": [
    "# 2. Find the length of the string \"Hello World\"\n",
    "s = \"Hello World\"\n",
    "print(len(s))"
   ]
  },
  {
   "cell_type": "code",
   "execution_count": 4,
   "id": "f4c80b50-c016-438e-ad6e-34d83e55e61a",
   "metadata": {},
   "outputs": [
    {
     "name": "stdout",
     "output_type": "stream",
     "text": [
      "Pyt\n"
     ]
    }
   ],
   "source": [
    "# 3. Slice the first 3 characters from the string \"Python Programming\"\n",
    "s = \"Python Programming\"\n",
    "print(s[:3])"
   ]
  },
  {
   "cell_type": "code",
   "execution_count": 5,
   "id": "2d22878f-5dc0-4d3e-8e87-9d41f4123a46",
   "metadata": {},
   "outputs": [
    {
     "name": "stdout",
     "output_type": "stream",
     "text": [
      "HELLO\n"
     ]
    }
   ],
   "source": [
    "# 4. Convert the string \"hello\" to uppercase\n",
    "s = \"hello\"\n",
    "print(s.upper())"
   ]
  },
  {
   "cell_type": "code",
   "execution_count": 6,
   "id": "fb4bfe58-8553-4602-9433-671b4e05c2a8",
   "metadata": {},
   "outputs": [
    {
     "name": "stdout",
     "output_type": "stream",
     "text": [
      "I like orange\n"
     ]
    }
   ],
   "source": [
    "# 5. Replace \"apple\" with \"orange\" in \"I like apple\"\n",
    "s = \"I like apple\"\n",
    "print(s.replace(\"apple\", \"orange\"))"
   ]
  },
  {
   "cell_type": "code",
   "execution_count": 7,
   "id": "87bfae41-c178-4295-86de-5d8810fb4d3f",
   "metadata": {},
   "outputs": [
    {
     "name": "stdout",
     "output_type": "stream",
     "text": [
      "[1, 2, 3, 4, 5]\n"
     ]
    }
   ],
   "source": [
    "# 6. Create a list with numbers 1 to 5 and print it\n",
    "numbers = [1, 2, 3, 4, 5]\n",
    "print(numbers)"
   ]
  },
  {
   "cell_type": "code",
   "execution_count": 8,
   "id": "0730d0bf-3712-4fd5-876f-9f20c481c3e2",
   "metadata": {},
   "outputs": [
    {
     "name": "stdout",
     "output_type": "stream",
     "text": [
      "[1, 2, 3, 4, 10]\n"
     ]
    }
   ],
   "source": [
    "# 7. Append the number 10 to the list [1, 2, 3, 4]\n",
    "lst = [1, 2, 3, 4]\n",
    "lst.append(10)\n",
    "print(lst)"
   ]
  },
  {
   "cell_type": "code",
   "execution_count": 9,
   "id": "0a7ffce3-5190-4930-b753-9a4132598ccb",
   "metadata": {},
   "outputs": [
    {
     "name": "stdout",
     "output_type": "stream",
     "text": [
      "[1, 2, 4, 5]\n"
     ]
    }
   ],
   "source": [
    "# 8. Remove number 3 from the list [1, 2, 3, 4, 5]\n",
    "lst = [1, 2, 3, 4, 5]\n",
    "lst.remove(3)\n",
    "print(lst)"
   ]
  },
  {
   "cell_type": "code",
   "execution_count": 10,
   "id": "b5a973c1-fb24-4aba-ba4d-ba0b6fcdbbd8",
   "metadata": {},
   "outputs": [
    {
     "name": "stdout",
     "output_type": "stream",
     "text": [
      "b\n"
     ]
    }
   ],
   "source": [
    "# 9. Access the second element in the list ['a', 'b', 'c', 'd']\n",
    "lst = ['a', 'b', 'c', 'd']\n",
    "print(lst[1])"
   ]
  },
  {
   "cell_type": "code",
   "execution_count": 11,
   "id": "a3bf5944-d0d6-4bc1-90a1-0c55a9abe980",
   "metadata": {},
   "outputs": [
    {
     "name": "stdout",
     "output_type": "stream",
     "text": [
      "[50, 40, 30, 20, 10]\n"
     ]
    }
   ],
   "source": [
    "# 10. Reverse the list [10, 20, 30, 40, 50]\n",
    "lst = [10, 20, 30, 40, 50]\n",
    "lst.reverse()\n",
    "print(lst)"
   ]
  },
  {
   "cell_type": "code",
   "execution_count": 12,
   "id": "34a56445-a332-4705-b975-8294d7e2ab18",
   "metadata": {},
   "outputs": [
    {
     "name": "stdout",
     "output_type": "stream",
     "text": [
      "(100, 200, 300)\n"
     ]
    }
   ],
   "source": [
    "# 11. Create a tuple with 100, 200, 300 and print it\n",
    "tup = (100, 200, 300)\n",
    "print(tup)"
   ]
  },
  {
   "cell_type": "code",
   "execution_count": 13,
   "id": "1a5b09de-0287-412d-9eb9-d85b84c8fa56",
   "metadata": {},
   "outputs": [
    {
     "name": "stdout",
     "output_type": "stream",
     "text": [
      "blue\n"
     ]
    }
   ],
   "source": [
    "# 12. Access second-to-last element of tuple\n",
    "colors = ('red', 'green', 'blue', 'yellow')\n",
    "print(colors[-2])"
   ]
  },
  {
   "cell_type": "code",
   "execution_count": 14,
   "id": "d156b305-1c26-42a8-a0a2-1fe4052a879d",
   "metadata": {},
   "outputs": [
    {
     "name": "stdout",
     "output_type": "stream",
     "text": [
      "5\n"
     ]
    }
   ],
   "source": [
    "# 13. Find minimum number in tuple\n",
    "nums = (10, 20, 5, 15)\n",
    "print(min(nums))"
   ]
  },
  {
   "cell_type": "code",
   "execution_count": 15,
   "id": "a55ec054-ea81-49b3-8130-3cb5726ef6df",
   "metadata": {},
   "outputs": [
    {
     "name": "stdout",
     "output_type": "stream",
     "text": [
      "1\n"
     ]
    }
   ],
   "source": [
    "# 14. Find index of \"cat\" in tuple\n",
    "animals = ('dog', 'cat', 'rabbit')\n",
    "print(animals.index(\"cat\"))"
   ]
  },
  {
   "cell_type": "code",
   "execution_count": 16,
   "id": "07bf9255-20f4-4e91-995d-866cfb87082f",
   "metadata": {},
   "outputs": [
    {
     "name": "stdout",
     "output_type": "stream",
     "text": [
      "False\n"
     ]
    }
   ],
   "source": [
    "# 15. Check if \"kiwi\" is in tuple\n",
    "fruits = (\"apple\", \"banana\", \"mango\")\n",
    "print(\"kiwi\" in fruits)"
   ]
  },
  {
   "cell_type": "code",
   "execution_count": 17,
   "id": "be6be5b4-e373-41dd-ae35-1dee6471aab2",
   "metadata": {},
   "outputs": [
    {
     "name": "stdout",
     "output_type": "stream",
     "text": [
      "{'c', 'b', 'a'}\n"
     ]
    }
   ],
   "source": [
    "# 16. Create set with 'a', 'b', 'c' and print\n",
    "s = {'a', 'b', 'c'}\n",
    "print(s)"
   ]
  },
  {
   "cell_type": "code",
   "execution_count": 18,
   "id": "2315f9a7-100e-44a6-89a9-7a7f820ce594",
   "metadata": {},
   "outputs": [
    {
     "name": "stdout",
     "output_type": "stream",
     "text": [
      "set()\n"
     ]
    }
   ],
   "source": [
    "# 17. Clear set {1, 2, 3, 4, 5}\n",
    "s = {1, 2, 3, 4, 5}\n",
    "s.clear()\n",
    "print(s)"
   ]
  },
  {
   "cell_type": "code",
   "execution_count": 19,
   "id": "95a5dec2-c0da-4063-84b8-7f8fc4e9caa3",
   "metadata": {},
   "outputs": [
    {
     "name": "stdout",
     "output_type": "stream",
     "text": [
      "{1, 2, 3}\n"
     ]
    }
   ],
   "source": [
    "# 18. Remove element 4 from set\n",
    "s = {1, 2, 3, 4}\n",
    "s.remove(4)\n",
    "print(s)"
   ]
  },
  {
   "cell_type": "code",
   "execution_count": 20,
   "id": "92ebbcdb-20e4-4c61-a80c-abcf3541bb13",
   "metadata": {},
   "outputs": [
    {
     "name": "stdout",
     "output_type": "stream",
     "text": [
      "{1, 2, 3, 4, 5}\n"
     ]
    }
   ],
   "source": [
    "# 19. Union of two sets\n",
    "a = {1, 2, 3}\n",
    "b = {3, 4, 5}\n",
    "print(a.union(b))"
   ]
  },
  {
   "cell_type": "code",
   "execution_count": 24,
   "id": "c2648686-9689-4436-aa1b-440e8ec152b2",
   "metadata": {},
   "outputs": [
    {
     "name": "stdout",
     "output_type": "stream",
     "text": [
      "{2, 3}\n"
     ]
    }
   ],
   "source": [
    "# 20. Intersection of two sets\n",
    "a = {1, 2, 3}\n",
    "b = {2, 3, 4}\n",
    "print(a.intersection(b))"
   ]
  },
  {
   "cell_type": "code",
   "execution_count": 22,
   "id": "5e71a76b-9c64-42b9-9ad4-4831a055f123",
   "metadata": {},
   "outputs": [
    {
     "name": "stdout",
     "output_type": "stream",
     "text": [
      "{'name': 'John', 'age': 25, 'city': 'New York'}\n"
     ]
    }
   ],
   "source": [
    "# 21. Create dictionary with keys and print\n",
    "d = {\"name\": \"John\", \"age\": 25, \"city\": \"New York\"}\n",
    "print(d)"
   ]
  },
  {
   "cell_type": "code",
   "execution_count": 23,
   "id": "5fe9e844-3566-4ff3-87c6-d1706f89b516",
   "metadata": {},
   "outputs": [
    {
     "name": "stdout",
     "output_type": "stream",
     "text": [
      "{'name': 'John', 'age': 25, 'country': 'USA'}\n"
     ]
    }
   ],
   "source": [
    "# 22. Add key-value pair \"country\": \"USA\"\n",
    "d = {'name': 'John', 'age': 25}\n",
    "d[\"country\"] = \"USA\"\n",
    "print(d)"
   ]
  },
  {
   "cell_type": "code",
   "execution_count": 25,
   "id": "367e8968-5409-45b6-b250-cba03b68c5c8",
   "metadata": {},
   "outputs": [
    {
     "name": "stdout",
     "output_type": "stream",
     "text": [
      "Alice\n"
     ]
    }
   ],
   "source": [
    "# 23. Access value associated with \"name\"\n",
    "d = {'name': 'Alice', 'age': 30}\n",
    "print(d[\"name\"])"
   ]
  },
  {
   "cell_type": "code",
   "execution_count": 26,
   "id": "596b3619-bf33-415a-8d1f-2bb17beda03e",
   "metadata": {},
   "outputs": [
    {
     "name": "stdout",
     "output_type": "stream",
     "text": [
      "{'name': 'Bob', 'city': 'New York'}\n"
     ]
    }
   ],
   "source": [
    "# 24. Remove key \"age\"\n",
    "d = {'name': 'Bob', 'age': 22, 'city': 'New York'}\n",
    "del d[\"age\"]\n",
    "print(d)"
   ]
  },
  {
   "cell_type": "code",
   "execution_count": 27,
   "id": "1e8105c6-ba3e-4f8f-9500-f8fdb590fca8",
   "metadata": {},
   "outputs": [
    {
     "name": "stdout",
     "output_type": "stream",
     "text": [
      "True\n"
     ]
    }
   ],
   "source": [
    "# 25. Check if \"city\" exists\n",
    "d = {'name': 'Alice', 'city': 'Paris'}\n",
    "print(\"city\" in d)"
   ]
  },
  {
   "cell_type": "code",
   "execution_count": 28,
   "id": "7beea2c0-2bf8-425e-a36f-a5b40fba9f13",
   "metadata": {},
   "outputs": [
    {
     "name": "stdout",
     "output_type": "stream",
     "text": [
      "[1, 2, 3] (4, 5, 6) {'a': 10, 'b': 20}\n"
     ]
    }
   ],
   "source": [
    "# 26. Create a list, a tuple, and a dictionary, and print them\n",
    "lst = [1, 2, 3]\n",
    "tup = (4, 5, 6)\n",
    "dct = {'a': 10, 'b': 20}\n",
    "print(lst, tup, dct)"
   ]
  },
  {
   "cell_type": "code",
   "execution_count": 29,
   "id": "b88ba712-01b0-4577-8bb5-969cd441d344",
   "metadata": {},
   "outputs": [
    {
     "name": "stdout",
     "output_type": "stream",
     "text": [
      "[6, 19, 39, 60, 97]\n"
     ]
    }
   ],
   "source": [
    "# 27. List of 5 random numbers between 1 and 100, sorted\n",
    "import random\n",
    "lst = random.sample(range(1, 101), 5)\n",
    "lst.sort()\n",
    "print(lst)"
   ]
  },
  {
   "cell_type": "code",
   "execution_count": 30,
   "id": "93a147b9-721c-4919-9422-3530bdbc5259",
   "metadata": {},
   "outputs": [
    {
     "name": "stdout",
     "output_type": "stream",
     "text": [
      "date\n"
     ]
    }
   ],
   "source": [
    "# 28. List with strings and print third index\n",
    "lst = [\"apple\", \"banana\", \"cherry\", \"date\", \"fig\"]\n",
    "print(lst[3])"
   ]
  },
  {
   "cell_type": "code",
   "execution_count": 31,
   "id": "de4b9b2f-b790-440e-a7b3-b34bd89d59d2",
   "metadata": {},
   "outputs": [
    {
     "name": "stdout",
     "output_type": "stream",
     "text": [
      "{'a': 1, 'b': 2, 'c': 3, 'd': 4}\n"
     ]
    }
   ],
   "source": [
    "# 29. Combine two dictionaries\n",
    "d1 = {\"a\": 1, \"b\": 2}\n",
    "d2 = {\"c\": 3, \"d\": 4}\n",
    "d1.update(d2)\n",
    "print(d1)"
   ]
  },
  {
   "cell_type": "code",
   "execution_count": 32,
   "id": "c4c57dcc-778b-4025-8c08-40f6debdf303",
   "metadata": {},
   "outputs": [
    {
     "name": "stdout",
     "output_type": "stream",
     "text": [
      "{'red', 'blue', 'green'}\n"
     ]
    }
   ],
   "source": [
    "# 30. Convert list of strings into a set\n",
    "lst = [\"red\", \"blue\", \"green\", \"red\"]\n",
    "s = set(lst)\n",
    "print(s)"
   ]
  },
  {
   "cell_type": "code",
   "execution_count": null,
   "id": "47f3d15b-920d-407f-ba60-fc366100ca2f",
   "metadata": {},
   "outputs": [],
   "source": []
  }
 ],
 "metadata": {
  "kernelspec": {
   "display_name": "Python [conda env:base] *",
   "language": "python",
   "name": "conda-base-py"
  },
  "language_info": {
   "codemirror_mode": {
    "name": "ipython",
    "version": 3
   },
   "file_extension": ".py",
   "mimetype": "text/x-python",
   "name": "python",
   "nbconvert_exporter": "python",
   "pygments_lexer": "ipython3",
   "version": "3.13.5"
  }
 },
 "nbformat": 4,
 "nbformat_minor": 5
}
